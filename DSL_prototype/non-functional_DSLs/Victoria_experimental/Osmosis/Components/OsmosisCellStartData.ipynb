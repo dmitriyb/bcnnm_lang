{
 "cells": [
  {
   "cell_type": "markdown",
   "metadata": {},
   "source": [
    "## calculate cell volume and surface area geometrically\n",
    "\n",
    "$w = \\frac{4}{3}r^{3}Pi$ $cm^{3}$\n",
    "\n",
    "$A = 4r^{2}Pi$ $cm^{2}$"
   ]
  },
  {
   "cell_type": "code",
   "execution_count": 24,
   "metadata": {},
   "outputs": [
    {
     "name": "stdout",
     "output_type": "stream",
     "text": [
      "w = 6.544984694978737e-08 cm^3\n",
      "A = 7.853981633974483e-05 cm^2\n"
     ]
    }
   ],
   "source": [
    "import math\n",
    "r = 2.5 * (10 ** (-3)) #cell radius (cm)\n",
    "\n",
    "w = (4 / 3) * math.pi * (r ** 3) #cell volume\n",
    "print ('w =',w,'cm^3')\n",
    "\n",
    "A = 4 * math.pi * (r ** 2)       #cell surface area\n",
    "print ('A =',A,'cm^2')"
   ]
  },
  {
   "cell_type": "code",
   "execution_count": null,
   "metadata": {},
   "outputs": [],
   "source": []
  }
 ],
 "metadata": {
  "kernelspec": {
   "display_name": "Python 3",
   "language": "python",
   "name": "python3"
  },
  "language_info": {
   "codemirror_mode": {
    "name": "ipython",
    "version": 3
   },
   "file_extension": ".py",
   "mimetype": "text/x-python",
   "name": "python",
   "nbconvert_exporter": "python",
   "pygments_lexer": "ipython3",
   "version": "3.7.4"
  }
 },
 "nbformat": 4,
 "nbformat_minor": 4
}
