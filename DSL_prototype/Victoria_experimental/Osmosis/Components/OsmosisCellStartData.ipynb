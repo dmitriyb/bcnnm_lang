{
 "cells": [
  {
   "cell_type": "markdown",
   "metadata": {},
   "source": [
    "#cell volume calculation\n",
    "\n",
    "w = ((1-z)x) / (Os_o - 2Cl) #cm^3\n",
    "\n",
    "z:    -1                     #average charge of impermeant intracellular molecules\n",
    "x:    2.6 * (10 ^ (-14))     #number of moles of the impermeant intracellular molecules (M)\n",
    "Os_o: 238 * (10 ^ (-6))      #the extracellular osmolarity (Osmol cm^(-3))\n",
    "Cl:   7 *  (10 ^ (-6))       #the intracellular chloride concentration (M cm^(-3))"
   ]
  },
  {
   "cell_type": "code",
   "execution_count": 8,
   "metadata": {},
   "outputs": [
    {
     "name": "stdout",
     "output_type": "stream",
     "text": [
      "2.3214285714285714e-10 cm^3\n"
     ]
    }
   ],
   "source": [
    "z = -1\n",
    "x = 2.6 * (10 ** (-14))\n",
    "Os_o = 238    * (10 ** (-6))\n",
    "Cl = 7 *  (10 ** (-6))\n",
    "\n",
    "w = ((1-z) * x) / (Os_o - 2 * Cl)\n",
    "print (w, 'cm^3')"
   ]
  },
  {
   "cell_type": "markdown",
   "metadata": {},
   "source": [
    "#count A using the cell membrane potential function (Kay_2017)\n",
    "V = Q/C = (F w (Na + K - Cl + z X)) / (A C_m) #volt\n",
    "A = (F w (Na + K - Cl + z X)) / (V C_m) #cm^2\n",
    "\n",
    "F:    9.648533 * (10 ^ 4)    #Faraday's constant (С mol^(-1))\n",
    "Na:   10 *  (10 ^ (-6))      #the intracellular sodium concentration (M cm^(-3))\n",
    "K:    140 *  (10 ^ (-6))     #the intracellular potassium concentration (M cm^(-3))\n",
    "Cl:   7 *  (10 ^ (-6))       #the intracellular chloride concentration (M cm^(-3))\n",
    "w:   2.3214285714285714 * (10 ^ (-10))    #cell volume (cm^3)\n",
    "z:    -1                     #average charge of impermeant intracellular molecules\n",
    "x:    2.6 * (10 ^ (-14))     #number of moles of the impermeant intracellular molecules (M)\n",
    "X: #impermeant intracellular molecules concentration (M cm^(-3)) #counted as X = x / w\n",
    "V:    -93 * (10 ^ (-3))      #resting membrane potential (Volt) / frog satorius muscle\n",
    "C_m:  1 * (10 ^ (-6))        #unit membrane capacitance (F cm^(-2))"
   ]
  },
  {
   "cell_type": "code",
   "execution_count": 17,
   "metadata": {},
   "outputs": [
    {
     "name": "stdout",
     "output_type": "stream",
     "text": [
      "-0.007466126726190476 cm^2\n"
     ]
    }
   ],
   "source": [
    "F = 9.648533 * (10 ** 4)    #Faraday's constant (С mol^(-1))\n",
    "Na = 10 *  (10 ** (-6))      #the intracellular sodium concentration (M cm^(-3))\n",
    "K = 140 *  (10 ** (-6))     #the intracellular potassium concentration (M cm^(-3))\n",
    "Cl = 7 *  (10 ** (-6))       #the intracellular chloride concentration (M cm^(-3))\n",
    "z = -1                     #average charge of impermeant intracellular molecules\n",
    "w = 2.3214285714285714 * (10 ** (-10))    #cell volume (cm^3)\n",
    "x = 2.6 * (10 ** (-14))     #number of moles of the impermeant intracellular molecules (M)\n",
    "\n",
    "X = x / w\n",
    "\n",
    "V = -93 * (10 ** (-3))      #resting membrane potential (Volt) / frog satorius muscle\n",
    "C_m = 1 * (10 ** (-6))        #unit membrane capacitance (F cm^(-2))\n",
    "\n",
    "A = (F * w * (Na + K - Cl + z * X)) / (V * C_m) #cm^2\n",
    "print (A, 'cm^2')"
   ]
  },
  {
   "cell_type": "markdown",
   "metadata": {},
   "source": [
    "#count cell volume using the cell radius\n",
    "w = (4/3) * pi * r^3 #cm^3\n",
    "\n",
    "r: 5 * (10 ^ (-4)) #cell radius (cm)"
   ]
  },
  {
   "cell_type": "code",
   "execution_count": 13,
   "metadata": {},
   "outputs": [
    {
     "name": "stdout",
     "output_type": "stream",
     "text": [
      "5.235987755982989e-10 cm^3\n"
     ]
    }
   ],
   "source": [
    "import math\n",
    "r = 5 * (10 ** (-4)) #cell radius (cm)\n",
    "\n",
    "w = (4 / 3) * math.pi * (r ** 3)\n",
    "print (w, 'cm^3')"
   ]
  },
  {
   "cell_type": "markdown",
   "metadata": {},
   "source": [
    "#count cell surface using the cell radius\n",
    "A = 4 * pi * r^2 #cm^2\n",
    "\n",
    "r: 5 * (10 ^ (-4)) #cell radius (cm)"
   ]
  },
  {
   "cell_type": "code",
   "execution_count": 15,
   "metadata": {},
   "outputs": [
    {
     "name": "stdout",
     "output_type": "stream",
     "text": [
      "3.141592653589793e-06 cm^2\n"
     ]
    }
   ],
   "source": [
    "import math\n",
    "r = 5 * (10 ** (-4)) #cell radius (cm)\n",
    "\n",
    "A = 4 * math.pi * (r ** 2)\n",
    "print (A, 'cm^2')"
   ]
  },
  {
   "cell_type": "code",
   "execution_count": 18,
   "metadata": {},
   "outputs": [
    {
     "name": "stdout",
     "output_type": "stream",
     "text": [
      "-0.05070628293678802 cm^2\n"
     ]
    }
   ],
   "source": [
    "#также попробовала подсчитать А по формуле потенциала, используя значение объема, вычесленного геометрически:\n",
    "\n",
    "F = 9.648533 * (10 ** 4)    #Faraday's constant (С mol^(-1))\n",
    "Na = 10 *  (10 ** (-6))      #the intracellular sodium concentration (M cm^(-3))\n",
    "K = 140 *  (10 ** (-6))     #the intracellular potassium concentration (M cm^(-3))\n",
    "Cl = 7 *  (10 ** (-6))       #the intracellular chloride concentration (M cm^(-3))\n",
    "z = -1                     #average charge of impermeant intracellular molecules\n",
    "w = 5.235987755982989 * (10 ** (-10))    #cell volume (cm^3)\n",
    "x = 2.6 * (10 ** (-14))     #number of moles of the impermeant intracellular molecules (M)\n",
    "\n",
    "X = x / w\n",
    "\n",
    "V = -93 * (10 ** (-3))      #resting membrane potential (Volt) / frog satorius muscle\n",
    "C_m = 1 * (10 ** (-6))        #unit membrane capacitance (F cm^(-2))\n",
    "\n",
    "A = (F * w * (Na + K - Cl + z * X)) / (V * C_m) #cm^2\n",
    "print (A, 'cm^2')"
   ]
  },
  {
   "cell_type": "markdown",
   "metadata": {},
   "source": [
    "#результат не совпадает со значением площади, посчитанным геометрически"
   ]
  }
 ],
 "metadata": {
  "kernelspec": {
   "display_name": "Python 3",
   "language": "python",
   "name": "python3"
  },
  "language_info": {
   "codemirror_mode": {
    "name": "ipython",
    "version": 3
   },
   "file_extension": ".py",
   "mimetype": "text/x-python",
   "name": "python",
   "nbconvert_exporter": "python",
   "pygments_lexer": "ipython3",
   "version": "3.6.1"
  }
 },
 "nbformat": 4,
 "nbformat_minor": 2
}
